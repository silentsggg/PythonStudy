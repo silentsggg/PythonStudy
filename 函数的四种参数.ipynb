{
 "cells": [
  {
   "cell_type": "markdown",
   "metadata": {},
   "source": [
    "## 函数的四种参数\n",
    "    - 位置参数\n",
    "    - 默认参数\n",
    "    - 关键字参数\n",
    "    - 可变参数"
   ]
  },
  {
   "cell_type": "code",
   "execution_count": 40,
   "metadata": {},
   "outputs": [
    {
     "name": "stdout",
     "output_type": "stream",
     "text": [
      "My name is 王子君,I'm a boy,I'm 25 years old and my hobby is VideoGame.\n"
     ]
    }
   ],
   "source": [
    "##位置参数\n",
    "#    - 定义\n",
    "#        def func(p1, p2......):\n",
    "#            func_body\n",
    "#    - 调用\n",
    "#        func(value1, value2......)\n",
    "    \n",
    "#定义与调用，形参与实参的位置一一对应，不可以有更改\n",
    "#定义时有几个形参，调用时就必须写几个实参，不能多也不能少\n",
    "\n",
    "#定义学生函数stu()，参数包括姓名name，性别male，年龄age，爱好hobby\n",
    "def stu(name, male, age, hobby):\n",
    "    print(\"My name is {0},I'm a {1},I'm {2} years old and my hobby is {3}.\".format(name, male, age, hobby))\n",
    "\n",
    "#调用函数,实参位置与形参一一对应，不然就会出错\n",
    "#stu(25, \"王子君\", \"VideoGame\")   #位置错误就会输出错误的结果\n",
    "stu('王子君', 'boy', 25, 'VideoGame')    "
   ]
  },
  {
   "cell_type": "code",
   "execution_count": 45,
   "metadata": {},
   "outputs": [
    {
     "name": "stdout",
     "output_type": "stream",
     "text": [
      "My name is 王子君,I'm a female,I'm 25 years old and my hobby is VideoGame.\n"
     ]
    }
   ],
   "source": [
    "##默认参数\n",
    "#    - 定义\n",
    "#        def func(p1=value1, p2=value2......):\n",
    "#            func_body\n",
    "#    - 调用\n",
    "#        func(value1, value2......)\n",
    "#        or\n",
    "#        func(......)\n",
    "#定义函数时，直接赋予参数一个默认的参数值，如果在调用时不对该参数赋值，则取默认值\n",
    "#如果默认参数与位置参数混用，则所有的位置参数必须在默认参数之前，包括定义和调用\n",
    "\n",
    "#定义学生函数，参数包括姓名name，性别male=boy（默认男性），年龄age，爱好hobby，性别male\n",
    "def stu(name, age, hobby, male='boy'):\n",
    "    print(\"My name is {0},I'm a {1},I'm {2} years old and my hobby is {3}.\".format(name, male, age, hobby))\n",
    "\n",
    "#调用函数\n",
    "#使用参数默认值\n",
    "stu('王子君', 25, 'VideoGame')      #male参数不写不进行赋值，不会报错"
   ]
  },
  {
   "cell_type": "code",
   "execution_count": 54,
   "metadata": {},
   "outputs": [
    {
     "name": "stdout",
     "output_type": "stream",
     "text": [
      "My name is 王子君,I'm a female,I'm 25 years old and my hobby is VideoGame.\n"
     ]
    }
   ],
   "source": [
    "#将默认参数赋新值，默认参数必须在所有位置参数之后\n",
    "stu('王子君', 25, 'VideoGame', 'female')      "
   ]
  },
  {
   "cell_type": "code",
   "execution_count": 51,
   "metadata": {},
   "outputs": [
    {
     "name": "stdout",
     "output_type": "stream",
     "text": [
      "My name is 王子君,I'm a boy,I'm 32 years old and my hobby is videogame and computergame.\n"
     ]
    }
   ],
   "source": [
    "##关键字参数\n",
    "#    - 定义\n",
    "#       def func(p1=value1, p2=value2......):\n",
    "            func_body\n",
    "#    - 调用\n",
    "#       func(p1=value1, p2=value2......)\n",
    "#        or\n",
    "#       func(......)\n",
    "#定义函数时，每个参数都有默认的值，类似默认参数\n",
    "#能够有效防止函数调用时，参数传递出错\n",
    "\n",
    "#定义学生函数kstu()，参数包括姓名name，性别male，年龄age，爱好hobby\n",
    "def kstu(name='no name', age=0, hobby='nohobby', male='boy'):\n",
    "    print(\"My name is {0},I'm a {1},I'm {2} years old and my hobby is {3}.\".format(name, male, age, hobby))\n",
    "\n",
    "#调用函数，实参位置可以变化，不影响函数输出的内容\n",
    "#如果某一个参数没有进行赋值，则输出默认值，与默认参数一致\n",
    "\n",
    "kstu(name='王子君', hobby='videogame and computergame', male='boy', age='32')"
   ]
  },
  {
   "cell_type": "code",
   "execution_count": 56,
   "metadata": {},
   "outputs": [
    {
     "name": "stdout",
     "output_type": "stream",
     "text": [
      "My name is 王子君,I'm a boy,I'm 0 years old and my hobby is videogame and computergame.\n"
     ]
    }
   ],
   "source": [
    "#age未赋值，则输出默认值0\n",
    "kstu(name='王子君', hobby='videogame and computergame', male='boy')"
   ]
  },
  {
   "cell_type": "code",
   "execution_count": 60,
   "metadata": {},
   "outputs": [
    {
     "name": "stdout",
     "output_type": "stream",
     "text": [
      "<class 'tuple'>\n",
      "******************************\n",
      "wangzijun\n",
      "19\n",
      "games\n",
      "wangchan\n",
      "smppc\n"
     ]
    }
   ],
   "source": [
    "##可变参数、收集参数\n",
    "#    - 定义\n",
    "#        def func(*args):\n",
    "#            func_body\n",
    "#    - 调用\n",
    "#        func(value1, value2, value3......)\n",
    "#可接受无穷个参数，args收集所有的参数以元祖tuple类型保存\n",
    "#星号*必须写在形参前面，args一般约定俗成代表收集参数\n",
    "\n",
    "#定义一个学生函数stu(),使用收集参数获取各项信息\n",
    "\n",
    "def stu(*args):\n",
    "    print(type(args))    #打印args类型，应该输出tuple（元祖）\n",
    "    print('*'*30)\n",
    "    for i in args:\n",
    "        print(i)\n",
    "\n",
    "#调用函数\n",
    "stu('wangzijun', 19, 'games', 'wangchan', 'smppc')\n",
    "    "
   ]
  },
  {
   "cell_type": "markdown",
   "metadata": {},
   "source": [
    "##关键字收集参数\n",
    "\n",
    "    - 定义\n",
    "       def func(**kwargs):\n",
    "            func_body\n",
    "    - 调用\n",
    "        func(p1=value1, p2=value2, p3=value3......)\n",
    "#kwargs收集所有的关键字参数，保存在字典类里dict"
   ]
  },
  {
   "cell_type": "code",
   "execution_count": 69,
   "metadata": {},
   "outputs": [
    {
     "name": "stdout",
     "output_type": "stream",
     "text": [
      "<class 'dict'>\n",
      "******************************\n",
      "name ----- wangzijun\n",
      "age ----- 19\n",
      "hobby ----- games\n",
      "wife ----- wangchan\n",
      "work ----- smppc\n"
     ]
    }
   ],
   "source": [
    "#定义一个学生函数stu(),使用关键字收集参数获取各项信息\n",
    "\n",
    "def stu(**kwargs):\n",
    "    print(type(kwargs))    #打印args类型，应该输出tuple（元祖）\n",
    "    print('*'*30)\n",
    "    for k , v in kwargs.items():\n",
    "        print(k,'-----',v)\n",
    "\n",
    "#调用函数\n",
    "stu(name = 'wangzijun', age=19, hobby='games', wife='wangchan', work='smppc')"
   ]
  },
  {
   "cell_type": "markdown",
   "metadata": {},
   "source": [
    "#位置参数，默认参数，关键字参数，收集参数，关键字收集参数混用\n",
    "    - 定义\n",
    "       def func(p1, p2=value2, *args, **kwargs):\n",
    "            func_body\n",
    "    - 调用\n",
    "        func(value1, p2=value2, value3, p4=value4......)\n",
    "#参数位置\n",
    "    - 位置参数与收集参数、默认参数、args必须在前面，关键字参数、关键字收集参数在后面,定义调用都这样写\n"
   ]
  },
  {
   "cell_type": "code",
   "execution_count": 95,
   "metadata": {},
   "outputs": [
    {
     "name": "stdout",
     "output_type": "stream",
     "text": [
      "name = wangzijun\n",
      "age = 29\n",
      "gender = 1986-05-04\n",
      "work = wangchan\n",
      "hobby = xaut,xjtu\n",
      "==============================\n",
      "123\n",
      "456\n",
      "==============================\n",
      "hobby1 ---- games\n"
     ]
    }
   ],
   "source": [
    "##定义一个学生函数stu(),使用关键字收集参数获取各项信息，使用参数混用\n",
    "\n",
    "def stu(name, age, hobby='nohobby',work='nowork', gender='boy', *args, **kwargs ):\n",
    "    print('name = {0}'.format(name))\n",
    "    print('age = {0}'.format(age))\n",
    "    print('gender = {0}'.format(gender))\n",
    "    print('work = {0}'.format(work))\n",
    "    print('hobby = {0}'.format(hobby))\n",
    "    print('='*30)\n",
    "    for i in args:\n",
    "        print(i)\n",
    "    print('='*30)\n",
    "    for k,v in kwargs.items():\n",
    "        print(k,'----',v)\n",
    "stu('wangzijun', 29, 'xaut,xjtu', 'wangchan', '1986-05-04', '123', '456', hobby1='games')"
   ]
  },
  {
   "cell_type": "markdown",
   "metadata": {},
   "source": [
    "##元祖，字典类解包\n",
    "##收集函数，解包用*;关键字收集函数，解包用**\n"
   ]
  },
  {
   "cell_type": "code",
   "execution_count": 100,
   "metadata": {},
   "outputs": [
    {
     "name": "stdout",
     "output_type": "stream",
     "text": [
      "第1个为<class 'int'>类，内容是1\n",
      "第2个为<class 'int'>类，内容是29\n",
      "第3个为<class 'str'>类，内容是wangzijun\n",
      "第4个为<class 'str'>类，内容是smppc\n"
     ]
    }
   ],
   "source": [
    "#定义收集函数stu(),用list直接传入list内的所有对象\n",
    "\n",
    "def stu(*args):\n",
    "    n = 1\n",
    "    for i in args:\n",
    "        print('第{0}个为{1}类，内容是{2}'.format(n, type(i), i))\n",
    "        n += 1\n",
    "l = {1, \"wangzijun\", 29, \"smppc\"}\n",
    "stu(*l)\n",
    "\n"
   ]
  },
  {
   "cell_type": "code",
   "execution_count": 105,
   "metadata": {},
   "outputs": [
    {
     "name": "stdout",
     "output_type": "stream",
     "text": [
      "第a个为<class 'int'>类，内容是1\n",
      "第b个为<class 'str'>类，内容是2\n",
      "第c个为<class 'int'>类，内容是3\n"
     ]
    }
   ],
   "source": [
    "#定义关键字收集函数stu(),用dict直接传入dict内的所有对象\n",
    "\n",
    "def stu(**kwargs):\n",
    "    n = 1\n",
    "    for k,v in kwargs.items():\n",
    "        print('第{0}个为{1}类，内容是{2}'.format(k, type(v), v))\n",
    "        n += 1\n",
    "l = {'a':1, 'b':'2', 'c':3}\n",
    "stu(**l)"
   ]
  },
  {
   "cell_type": "markdown",
   "metadata": {
    "collapsed": true
   },
   "source": [
    "#函数的返回值"
   ]
  }
 ],
 "metadata": {
  "kernelspec": {
   "display_name": "Python 3",
   "language": "python",
   "name": "python3"
  },
  "language_info": {
   "codemirror_mode": {
    "name": "ipython",
    "version": 3
   },
   "file_extension": ".py",
   "mimetype": "text/x-python",
   "name": "python",
   "nbconvert_exporter": "python",
   "pygments_lexer": "ipython3",
   "version": "3.6.3"
  }
 },
 "nbformat": 4,
 "nbformat_minor": 2
}
